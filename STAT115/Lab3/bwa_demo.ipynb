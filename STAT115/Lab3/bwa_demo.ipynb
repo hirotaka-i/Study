{
 "cells": [
  {
   "cell_type": "markdown",
   "metadata": {},
   "source": [
    "# BWA\n",
    "    Burrows-Wheeler transform.\n",
    "    Requires an index (.sai) to be made before aligning.\n",
    "    3 different versions:\n",
    "        BWA-backtrack (aln/samse/sampe)\n",
    "        BWA-SW (bwasw)\n",
    "        BWA-MEM (mem)\n",
    "    Different recommendations depending on data:\n",
    "        BWA-backtrack: Illumina reads up to 100bp\n",
    "        BWA-SW / BWA-MEM: longer sequeces from 70bp to 1Mbp\n",
    "        BWA-MEM latest version, recommended since generally faster and more accurate\n",
    "        BWA-MEM better than BWA-backtrack for 70-100bp Illumina reads\n",
    "\n",
    "The following is the example of short leads alighment"
   ]
  },
  {
   "cell_type": "code",
   "execution_count": 6,
   "metadata": {},
   "outputs": [
    {
     "name": "stdout",
     "output_type": "stream",
     "text": [
      "hg100_1m_pe1.fq & hg100_1m_pe2.fq: 1 million paired-end reads of length 100bp.\n",
      "From SRR062634_1.filt.fastq & SRR062634_2.filt.fastq\n",
      "http://hobbes.ics.uci.edu/downloads/reads/hg100_1m_pe1.fq.gz\n",
      "http://hobbes.ics.uci.edu/downloads/reads/hg100_1m_pe2.fq.gz\n",
      "ftp://ftp-trace.ncbi.nih.gov/1000genomes/ftp/data/HG00096/sequence_read/\n",
      "\n",
      "--------------------------------------------------------------------------------\n",
      "ENCSR937WIG: polyA RNA-seq of H. sapeins cell line A549; PE 51nts\n",
      "--------------------------------------------------------------------------------\n",
      "wget https://www.encodeproject.org/files/ENCFF294FNZ/@@download/ENCFF294FNZ.fastq.gz #R1\n",
      "wget https://www.encodeproject.org/files/ENCFF643UEP/@@download/ENCFF643UEP.fastq.gz #R2\n",
      "\n",
      "\n",
      "--------------------------------------------------------------------------------\n",
      "gcat_set_053_[12].fastq.gz\n",
      "--------------------------------------------------------------------------------\n",
      "This is genome in a bottle 100x exome data obtained\n",
      "from the now defunct bioplanet/gcta variant calling\n",
      "benchmark site. This is data from individual\n",
      "NA12878.\n",
      "\n",
      "\n",
      "--------------------------------------------------------------------------------\n",
      "Garvan_NA12878_HG001_HiSeq_Exome\n",
      "--------------------------------------------------------------------------------\n",
      "# ftp://ftp-trace.ncbi.nih.gov/giab/ftp/data/NA12878/Garvan_NA12878_HG001_HiSeq_Exome/\n",
      "# NA12878 exomes\n",
      "# Facility: Garvan Institute of Medical Research (http://www.garvan.org.au/)\n",
      "# Sequencer: HiSeq2500\n",
      "# kit: Nextera Rapid Capture Exome and Expanded Exome\n",
      "# NIST7035 and NIST7086 are 2 vials of NA12878 DNA, a library was made from each, each library was sequenced on 2 lanes\n",
      "\n",
      "# Files\n",
      "*fastq.gz - raw fastq's\n",
      "*_trimmed.fastq - after adapter trim (trimgalore) of Nextera adapter sequences\n",
      "*bwa.markDuplicates.bam - adapter trimmed fastq's aligned to hg19 using bwa(-backtrack) and then duplicate marked (Picard)\n",
      "*hc.snps.indels.vcf - raw vcf's from GATK haplotypecaller (after BQSR and indel realign). Note: no VQSR\n",
      "*nexterarapidcapture_expandedexome_targetedregions.bed - targeted exome regions from Illumina\n",
      "\n",
      "Nextera adapters are \n",
      "Read1  CTGTCTCTTATACACATCTCCGAGCCCACGAGAC\n",
      "Read2  CTGTCTCTTATACACATCTGACGCTGCCGACGA\n",
      "(reference: https://my.illumina.com/MyIllumina/Bulletin/N1IKmFNt9kyP2imk4ysEWQ/what-sequences-do-i-use-for-adapter-trimming)\n",
      "\n",
      "\n",
      "--------------------------------------------------------------------------------\n",
      "platinum_genomes\n",
      "--------------------------------------------------------------------------------\n",
      "There are 6 genomes from the Coriell CEPH/UTAH 1463 pedigree (4 grandparents,\n",
      "2 parents) sequenced by illumina to 30x coverage\n",
      "\n",
      "[12889]+-+-+(12890)       [12891]+-+-+(12892)\n",
      "         |                         |\n",
      "         +                         +\n",
      "      [12877]                   (12878)\n",
      "         +                         +\n",
      "         |                         |\n",
      "         +------------+------------+\n",
      "                      |\n",
      "                      |\n",
      "   +----+--+--+--+--+-++--+--+----+------+\n",
      "   |    |  |  |  |  |  |  |  |    |      |\n",
      "   +    +  +  +  +  +  +  +  +    +      +\n",
      "(12879)(.)(.)[.][.][.](.)[.](.)(12888)[12893]\n",
      "\n",
      "\n",
      "--------------------------------------------------------------------------------\n",
      "Human ATAC-Seq data\n",
      "--------------------------------------------------------------------------------\n",
      "Read 1 and read 2 of a 100nt paired end ATAC-Seq experiment in human\n",
      "thoracic aorta cells (sample ENCBS532TUO)\n",
      "\n",
      "Test data was obtained from encode on 171023 with\n",
      "\n",
      "R1: wget https://www.encodeproject.org/files/ENCFF566LXM/@@download/ENCFF566LXM.fastq.gz\n",
      "R2: wget https://www.encodeproject.org/files/ENCFF141NYG/@@download/ENCFF141NYG.fastq.gz\n",
      "\n"
     ]
    }
   ],
   "source": [
    "!cat /fdb/app_testdata/fastq/Homo_sapiens/README"
   ]
  },
  {
   "cell_type": "code",
   "execution_count": 20,
   "metadata": {},
   "outputs": [
    {
     "name": "stdout",
     "output_type": "stream",
     "text": [
      "ENCFF141NYG.fastq.gz  Garvan_NA12878_HG001_HiSeq_Exome\thg100_1m_pe1.fq.gz\n",
      "ENCFF294FNZ.fastq.gz  README\t\t\t\thg100_1m_pe2.fq.gz\n",
      "ENCFF566LXM.fastq.gz  gcat_set_053_1.fastq.gz\t\tplatinum_genomes\n",
      "ENCFF643UEP.fastq.gz  gcat_set_053_2.fastq.gz\t\ttest\n"
     ]
    }
   ],
   "source": [
    "!ls /fdb/app_testdata/fastq/Homo_sapiens/"
   ]
  },
  {
   "cell_type": "code",
   "execution_count": 2,
   "metadata": {},
   "outputs": [
    {
     "name": "stdout",
     "output_type": "stream",
     "text": [
      "@SRR062634.1 HWI-EAS110_103327062:6:1:1092:8469/1\n",
      "GGGTTTTCCTGAAAAAGGGATTCAAGAAAGAAAACTTACATGAGGTGATTGTTTAATGTTGCTACCAAAGAAGAGAGAGTTACCTGCCCATTCACTCAGG\n",
      "+\n",
      "@C'@9:BB:?DCCB5CC?5C=?5@CADC?BDB)B@?-A@=:=:@CC'C>5AA+*+2@@'-?>5-?C=@-??)'>>B?D@?*?A#################\n",
      "@SRR062634.2 HWI-EAS110_103327062:6:1:1107:21105/1\n",
      "ACCGTGAGCAATCAGCTGCCATCAACGTGGAGGTAAGACTCTCCACCTGCAAAAACATTACAACTTGCTGAAGGCTGAGATACTTGTTCGCACATTTTTA\n",
      "+\n",
      "FDEFF?DFEFE?BEEEEED=DB:DCEAEEB,CC=@B=5?B?CC5C?B+A??=>:CC<9-B2=@>-?:-<A@@A?9>*0<:'0%6,>:9&-:>?:>==B??\n",
      "@SRR062634.3 HWI-EAS110_103327062:6:1:1110:17198/1\n",
      "TAGATATTTTTGTTTTAACTGCTGTAGAAAATTAAGACATAAACTAAGAAATATCCCATGAAGGAATGAGTATACTGTTTCTACTTGCAGAAAAGCTGCG\n"
     ]
    }
   ],
   "source": [
    "%%bash\n",
    "READ1=\"/fdb/app_testdata/fastq/Homo_sapiens/hg100_1m_pe1.fq.gz\"\n",
    "zless $READ1 | head"
   ]
  },
  {
   "cell_type": "code",
   "execution_count": 27,
   "metadata": {},
   "outputs": [
    {
     "name": "stderr",
     "output_type": "stream",
     "text": [
      "[+] Loading bwa 0.7.17 on cn3117 \n",
      "[bwa_aln] 17bp reads: max_diff = 2\n",
      "[bwa_aln] 38bp reads: max_diff = 3\n",
      "[bwa_aln] 64bp reads: max_diff = 4\n",
      "[bwa_aln] 93bp reads: max_diff = 5\n",
      "[bwa_aln] 124bp reads: max_diff = 6\n",
      "[bwa_aln] 157bp reads: max_diff = 7\n",
      "[bwa_aln] 190bp reads: max_diff = 8\n",
      "[bwa_aln] 225bp reads: max_diff = 9\n",
      "[bwa_aln_core] calculate SA coordinate... 172.65 sec\n",
      "[bwa_aln_core] write to the disk... 0.05 sec\n",
      "[bwa_aln_core] 262144 sequences have been processed.\n",
      "[bwa_aln_core] calculate SA coordinate... 170.50 sec\n",
      "[bwa_aln_core] write to the disk... 0.06 sec\n",
      "[bwa_aln_core] 524288 sequences have been processed.\n",
      "[bwa_aln_core] calculate SA coordinate... 171.22 sec\n",
      "[bwa_aln_core] write to the disk... 0.05 sec\n",
      "[bwa_aln_core] 786432 sequences have been processed.\n",
      "[bwa_aln_core] calculate SA coordinate... 139.93 sec\n",
      "[bwa_aln_core] write to the disk... 0.06 sec\n",
      "[bwa_aln_core] 1000000 sequences have been processed.\n",
      "[main] Version: 0.7.17-r1188\n",
      "[main] CMD: bwa aln /fdb/bwa/indexes/hg38.fa /fdb/app_testdata/fastq/Homo_sapiens/hg100_1m_pe2.fq.gz\n",
      "[main] Real time: 660.752 sec; CPU: 659.969 sec\n"
     ]
    }
   ],
   "source": [
    "%%bash\n",
    "module load bwa\n",
    "REF=\"/fdb/bwa/indexes/hg38.fa\"\n",
    "READ1=\"/fdb/app_testdata/fastq/Homo_sapiens/hg100_1m_pe1.fq.gz\"\n",
    "READ2=\"/fdb/app_testdata/fastq/Homo_sapiens/hg100_1m_pe2.fq.gz\"\n",
    "# bwa aln $REF $READ1 > read1.sai # already completed\n",
    "bwa aln $REF $READ2 > read2.sai"
   ]
  },
  {
   "cell_type": "code",
   "execution_count": 32,
   "metadata": {},
   "outputs": [
    {
     "name": "stderr",
     "output_type": "stream",
     "text": [
      "[+] Loading bwa 0.7.17 on cn3117 \n",
      "[bwa_sai2sam_pe_core] convert to sequence coordinate... \n",
      "[infer_isize] (25, 50, 75) percentile: (169, 182, 195)\n",
      "[infer_isize] low and high boundaries: 117 and 247 for estimating avg and std\n",
      "[infer_isize] inferred external isize from 205586 pairs: 181.301 +/- 19.342\n",
      "[infer_isize] skewness: -0.545; kurtosis: 0.478; ap_prior: 1.02e-05\n",
      "[infer_isize] inferred maximum insert size: 317 (7.04 sigma)\n",
      "[bwa_sai2sam_pe_core] time elapses: 25.85 sec\n",
      "[bwa_sai2sam_pe_core] changing coordinates of 4476 alignments.\n",
      "[bwa_sai2sam_pe_core] align unmapped mate...\n",
      "[bwa_paired_sw] 14272 out of 15538 Q17 singletons are mated.\n",
      "[bwa_paired_sw] 293 out of 1573 Q17 discordant pairs are fixed.\n",
      "[bwa_sai2sam_pe_core] time elapses: 1.36 sec\n",
      "[bwa_sai2sam_pe_core] refine gapped alignments... 0.74 sec\n",
      "[bwa_sai2sam_pe_core] print alignments... 1.40 sec\n",
      "[bwa_sai2sam_pe_core] 262144 sequences have been processed.\n",
      "[bwa_sai2sam_pe_core] convert to sequence coordinate... \n",
      "[infer_isize] (25, 50, 75) percentile: (169, 182, 194)\n",
      "[infer_isize] low and high boundaries: 119 and 244 for estimating avg and std\n",
      "[infer_isize] inferred external isize from 205424 pairs: 181.421 +/- 19.124\n",
      "[infer_isize] skewness: -0.505; kurtosis: 0.392; ap_prior: 1.00e-05\n",
      "[infer_isize] inferred maximum insert size: 316 (7.04 sigma)\n",
      "[bwa_sai2sam_pe_core] time elapses: 25.28 sec\n",
      "[bwa_sai2sam_pe_core] changing coordinates of 4540 alignments.\n",
      "[bwa_sai2sam_pe_core] align unmapped mate...\n",
      "[bwa_paired_sw] 13822 out of 15021 Q17 singletons are mated.\n",
      "[bwa_paired_sw] 301 out of 1589 Q17 discordant pairs are fixed.\n",
      "[bwa_sai2sam_pe_core] time elapses: 1.30 sec\n",
      "[bwa_sai2sam_pe_core] refine gapped alignments... 0.71 sec\n",
      "[bwa_sai2sam_pe_core] print alignments... 1.38 sec\n",
      "[bwa_sai2sam_pe_core] 524288 sequences have been processed.\n",
      "[bwa_sai2sam_pe_core] convert to sequence coordinate... \n",
      "[infer_isize] (25, 50, 75) percentile: (169, 182, 195)\n",
      "[infer_isize] low and high boundaries: 117 and 247 for estimating avg and std\n",
      "[infer_isize] inferred external isize from 206506 pairs: 181.308 +/- 19.375\n",
      "[infer_isize] skewness: -0.537; kurtosis: 0.472; ap_prior: 1.00e-05\n",
      "[infer_isize] inferred maximum insert size: 318 (7.04 sigma)\n",
      "[bwa_sai2sam_pe_core] time elapses: 25.92 sec\n",
      "[bwa_sai2sam_pe_core] changing coordinates of 4510 alignments.\n",
      "[bwa_sai2sam_pe_core] align unmapped mate...\n",
      "[bwa_paired_sw] 13630 out of 14901 Q17 singletons are mated.\n",
      "[bwa_paired_sw] 324 out of 1648 Q17 discordant pairs are fixed.\n",
      "[bwa_sai2sam_pe_core] time elapses: 1.38 sec\n",
      "[bwa_sai2sam_pe_core] refine gapped alignments... 0.76 sec\n",
      "[bwa_sai2sam_pe_core] print alignments... 1.46 sec\n",
      "[bwa_sai2sam_pe_core] 786432 sequences have been processed.\n",
      "[bwa_sai2sam_pe_core] convert to sequence coordinate... \n",
      "[infer_isize] (25, 50, 75) percentile: (169, 182, 195)\n",
      "[infer_isize] low and high boundaries: 117 and 247 for estimating avg and std\n",
      "[infer_isize] inferred external isize from 167619 pairs: 181.281 +/- 19.378\n",
      "[infer_isize] skewness: -0.558; kurtosis: 0.501; ap_prior: 1.00e-05\n",
      "[infer_isize] inferred maximum insert size: 318 (7.04 sigma)\n",
      "[bwa_sai2sam_pe_core] time elapses: 21.20 sec\n",
      "[bwa_sai2sam_pe_core] changing coordinates of 3584 alignments.\n",
      "[bwa_sai2sam_pe_core] align unmapped mate...\n",
      "[bwa_paired_sw] 11096 out of 12133 Q17 singletons are mated.\n",
      "[bwa_paired_sw] 246 out of 1325 Q17 discordant pairs are fixed.\n",
      "[bwa_sai2sam_pe_core] time elapses: 1.16 sec\n",
      "[bwa_sai2sam_pe_core] refine gapped alignments... 0.57 sec\n",
      "[bwa_sai2sam_pe_core] print alignments... 1.15 sec\n",
      "[bwa_sai2sam_pe_core] 1000000 sequences have been processed.\n",
      "[main] Version: 0.7.17-r1188\n",
      "[main] CMD: bwa sampe /fdb/bwa/indexes/hg38.fa read1.sai read2.sai /fdb/app_testdata/fastq/Homo_sapiens/hg100_1m_pe1.fq.gz /fdb/app_testdata/fastq/Homo_sapiens/hg100_1m_pe2.fq.gz\n",
      "[main] Real time: 118.893 sec; CPU: 117.548 sec\n"
     ]
    }
   ],
   "source": [
    "%%bash\n",
    "module load bwa\n",
    "REF=\"/fdb/bwa/indexes/hg38.fa\"\n",
    "READ1=\"/fdb/app_testdata/fastq/Homo_sapiens/hg100_1m_pe1.fq.gz\"\n",
    "READ2=\"/fdb/app_testdata/fastq/Homo_sapiens/hg100_1m_pe2.fq.gz\"\n",
    "bwa sampe $REF read1.sai read2.sai $READ1 $READ2 > aln-pe.sam"
   ]
  },
  {
   "cell_type": "code",
   "execution_count": 34,
   "metadata": {},
   "outputs": [
    {
     "name": "stdout",
     "output_type": "stream",
     "text": [
      "2000000 + 0 in total (QC-passed reads + QC-failed reads)\n",
      "0 + 0 secondary\n",
      "0 + 0 supplementary\n",
      "0 + 0 duplicates\n",
      "1917872 + 0 mapped (95.89% : N/A)\n",
      "2000000 + 0 paired in sequencing\n",
      "1000000 + 0 read1\n",
      "1000000 + 0 read2\n",
      "1891735 + 0 properly paired (94.59% : N/A)\n",
      "1905719 + 0 with itself and mate mapped\n",
      "12153 + 0 singletons (0.61% : N/A)\n",
      "3257 + 0 with mate mapped to a different chr\n",
      "1045 + 0 with mate mapped to a different chr (mapQ>=5)\n"
     ]
    },
    {
     "name": "stderr",
     "output_type": "stream",
     "text": [
      "[+] Loading samtools 1.9  ... \n"
     ]
    }
   ],
   "source": [
    "%%bash\n",
    "module load samtools\n",
    "samtools flagstat aln-pe.sam"
   ]
  },
  {
   "cell_type": "code",
   "execution_count": 5,
   "metadata": {},
   "outputs": [
    {
     "name": "stdout",
     "output_type": "stream",
     "text": [
      "SRR062634.168\t77\t*\t0\t0\t*\t*\t0\t0\tAATGAACAACAAATGAACCTTAAGCTTCTGCTGTAAATCTCAAGTCTCAGAGCACACTATTACCTACCTTAACCGCGCAAGGCATGTATGTATGATCACA\tA5:A:=DBDCC6A?-CB-AA55DDBA-?-AA-A?CC:5C:DD=D:D:D:D-?################################################\n",
      "SRR062634.168\t141\t*\t0\t0\t*\t*\t0\t0\tCACAGGCAGGACTAGTCCCTGTGCTGGGCCACTCCCGGGACTCCAGAATCTATTTTTTAGTGAGTGCAAGTGGGTGCTCGAAGAACATGGTCCCAGTGGT\t@>>@################################################################################################\n",
      "SRR062634.169\t99\tchr7\t3868892\t60\t100M\t=\t3868968\t176\tGCTGAATAAATGATGTGTACAGTATCATTGCTCCGTATGAGAAAATGTAAATGACTACATTACATTGTTGGAAGGCAGTAATACAAAAGGGAAATATGAA\t:DDCDADD6DA>-AAAAAAA=A@C5D=DDDD:DC?DDDDADBBCCDAA:CDD5?D:C=CDB=?@BDDD+=CC=A?+===4;;98>?4:>CA=-=C14A@5\tXT:A:U\tNM:i:0\tSM:i:37\tAM:i:37\tX0:i:1\tX1:i:0\tXM:i:0\tXO:i:0\tXG:i:0\tMD:Z:100\n",
      "SRR062634.169\t147\tchr7\t3868968\t60\t100M\t=\t3868892\t-176\tAGTAATACAAAAGGAAAATATGAAGACAGCCGACATTTCTCATTCGGGAAAAACAAAGCTGATTCTGGTGATTCTGTGTGGGAGATTGTACTGGGCTGCA\t###############################BBBA:BBDBC:-5CC5>>>6AA?5DA5DBBCDBDCD:BBDC?=DDBD?ADDBADDD=B:BBDDDDD-AD\tXT:A:U\tNM:i:2\tSM:i:37\tAM:i:37\tX0:i:1\tX1:i:0\tXM:i:2\tXO:i:0\tXG:i:0\tMD:Z:14G10T74\n",
      "SRR062634.170\t83\tchr3\t62831454\t60\t100M\t=\t62831392\t-162\tGTTTGGCCTCTGGAATGAGCACTAAAACCTGGACTGCTGGCATGGTGCCATTACCAAATTACTGCGAGGTCTTGGCTAAATCACTCAATCTCTTTTTAAC\t######################C2@2=>?CE-5BEB?BB:?>@5C>-??=C@<>*?BA?CB??EEBBED=B:=EEC?CCA-EEEDEDBEE>E;BE?BEEE\tXT:A:U\tNM:i:2\tSM:i:37\tAM:i:37\tX0:i:1\tX1:i:0\tXM:i:2\tXO:i:0\tXG:i:0\tMD:Z:5T40T53\n",
      "SRR062634.170\t163\tchr3\t62831392\t60\t100M\t=\t62831454\t162\tTGGCTGCTTCTGTAACAACAGTTCCATTGTCACAGTCACTGATTAGGGAATCAGGATGATGGGTTTGTCCTCTGGAATGGGCCCTAAAACCTGGACTGCT\tEDEEE:ED=DEE=EEEEBBEEEDEEEBEAED5D5:DDBD??5DBBEE:=-EE:EC-+>7-C?:@C=BBBD,CBEA?A==-5=->=C@B,D:?C55A*::*\tXT:A:U\tNM:i:3\tSM:i:37\tAM:i:37\tX0:i:1\tX1:i:0\tXM:i:3\tXO:i:0\tXG:i:0\tMD:Z:0A78A2A17\n",
      "SRR062634.171\t83\tchr2\t193185676\t60\t100M\t=\t193185587\t-189\tATGTGAAGCATATCCCAAGTGGAATCCACTCCCACGCACAGTGGAATCTATCCAGCCAACTAAGGAACTTCTTCAGGTGTATTGTTCATGCTATCTTGAT\t##########??)??@=??7<?:-?:@-==93;;,5ABBBA5EBBEBA:BBEEBEBEB:BDEAE=C?E=?CCCEA:EDEDE=E=EDBEEE=DCDDBD5DD\tXT:A:U\tNM:i:2\tSM:i:37\tAM:i:37\tX0:i:1\tX1:i:0\tXM:i:2\tXO:i:0\tXG:i:0\tMD:Z:7T27T64\n",
      "SRR062634.171\t163\tchr2\t193185587\t60\t100M\t=\t193185676\t189\tCGAAACTGCACCAGCTGAGTCTTTTGTTCAACTCTCAATCTTGACCATCTCCTTACTTTTGTTTACTGAGATGTCAACAATTCTTCTTAATGTGAATCAT\tDAA=EEEEDEEEEEEA5?A5EEED>EAC:E=:=A5?-AA>=5CB:A5A-AAA:CC=-@-@;5'8/??D?C:?@?D5?>;*A=A?AEE@,5=C?@?DB:BD\tXT:A:U\tNM:i:2\tSM:i:37\tAM:i:37\tX0:i:1\tX1:i:0\tXM:i:2\tXO:i:0\tXG:i:0\tMD:Z:48A6A44\n",
      "SRR062634.172\t83\tchr2\t72538284\t60\t100M\t=\t72538202\t-182\tGGTATAAAAGGCTAAGGGTTCATTATATATTCATTGATATCTGATAAGCAGCGAAGTTCAACAGAAATATAATGTAAGACACAAATATGAACACAATATA\t###############@+=;=5??DDA:C==5-:ACC5@==CC,=C?-5><6>>@-;@@@6D66DD5DD==;@C;;=5-DD=DAD5=:DBDDD??DBC5DD\tXT:A:U\tNM:i:3\tSM:i:37\tAM:i:37\tX0:i:1\tX1:i:0\tXM:i:3\tXO:i:0\tXG:i:0\tMD:Z:2G6T44T45\n",
      "SRR062634.172\t163\tchr2\t72538202\t60\t100M\t=\t72538284\t182\tAGCCTCCTGCCTTTGCCTCCCAAAGTGCTGGGATTACAAGTGTGAGCCACTGCCCAAGACATTTCTTCACTATAAGAGCGATGGGATAAAATGCCAAGGG\tDDDADDD,BC<=?-@,5B9CAD-=5DDDBADBB::DD-55A5<??B---B@--5@:BB?+BBB??A?A-5->->=@??)@:-:@5=BBBB?#########\tXT:A:U\tNM:i:3\tSM:i:37\tAM:i:37\tX0:i:1\tX1:i:0\tXM:i:3\tXO:i:0\tXG:i:0\tMD:Z:59A18A15T5\n"
     ]
    }
   ],
   "source": [
    "!head -n800 aln-pe.sam | tail "
   ]
  }
 ],
 "metadata": {
  "kernelspec": {
   "display_name": "python/3.5",
   "language": "python",
   "name": "py3.5"
  },
  "language_info": {
   "codemirror_mode": {
    "name": "ipython",
    "version": 3
   },
   "file_extension": ".py",
   "mimetype": "text/x-python",
   "name": "python",
   "nbconvert_exporter": "python",
   "pygments_lexer": "ipython3",
   "version": "3.5.6"
  }
 },
 "nbformat": 4,
 "nbformat_minor": 2
}
