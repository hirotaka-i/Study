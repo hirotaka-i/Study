{
 "cells": [
  {
   "cell_type": "markdown",
   "metadata": {},
   "source": [
    "# DEMO for STAR"
   ]
  },
  {
   "cell_type": "code",
   "execution_count": 4,
   "metadata": {},
   "outputs": [
    {
     "name": "stdout",
     "output_type": "stream",
     "text": [
      "# David Hoover, 2015-03-02\n",
      "\n",
      "This directory contains reference genomes for STAR.\n",
      "\n",
      "Reference genomes have been partitioned into subdirectories based on their source and species.  Each terminal directory\n",
      "contains the base reference genome in the ref directory, along with 5 genome references generated with annotation\n",
      "from a related GTF file.  The annotated genome references were created with different read lengths (50, 75, 100, \n",
      "150, and 250 nt).  Links to the reference fasta and GTF files, along with a .dict and .fai file, are also available\n",
      "in each terminal directory.\n",
      "\n",
      "The structure of each terminal directory looks like this (for example mm9 from UCSC):\n",
      "\n",
      "    genes-50/\n",
      "    genes-75/\n",
      "    genes-100/\n",
      "    genes-150/\n",
      "    genes-250/\n",
      "    genes.gtf -> /fdb/igenomes/Mus_musculus/UCSC/mm9/Annotation/Genes/genes.gtf\n",
      "    ref/\n",
      "    ref.dict\n",
      "    ref.fa -> /data/genome/fasta/mm9.fa\n",
      "    ref.fa.fai\n",
      "\n",
      "The sources for fasta and reference files are:\n",
      "\n",
      "  UCSC               http://hgdownload.soe.ucsc.edu/downloads.html\n",
      "  Illumina/iGenomes  http://support.illumina.com/sequencing/sequencing_software/igenome.html\n",
      "  GENCODE            http://www.gencodegenes.org\n",
      "\n",
      "The structure of iGenomes and GENCODE mirror the structure from the FTP sources for those files.\n"
     ]
    }
   ],
   "source": [
    "!cat /fdb/STAR/00README"
   ]
  },
  {
   "cell_type": "code",
   "execution_count": 17,
   "metadata": {},
   "outputs": [
    {
     "name": "stdout",
     "output_type": "stream",
     "text": [
      "ENCFF138LJO.fastq.gz\n",
      "--------------------\n",
      "description: mouse cerebral cortex RNA-Seq, 100nt SE from Wold lab\n",
      "obtained:    Sep 01, 2015\n",
      "source:      https://www.encodeproject.org/files/ENCFF138LJO/@@download/ENCFF138LJO.fastq.gz\n",
      "\n",
      "ENCFF138LJO_250k.fastq.gz\n",
      "-------------------------\n",
      "description: first 250k reads from ENCFF138LJO.fastq.gz\n",
      "\n",
      "ENCFF138LJO_1M.fastq.gz\n",
      "-------------------------\n",
      "description: first 1M reads from ENCFF138LJO.fastq.gz\n"
     ]
    },
    {
     "name": "stderr",
     "output_type": "stream",
     "text": [
      "[+] Loading STAR  2.6.1c \n"
     ]
    }
   ],
   "source": [
    "%%bash\n",
    "module load STAR\n",
    "cat  $STAR_TEST_DATA/00README"
   ]
  },
  {
   "cell_type": "code",
   "execution_count": 12,
   "metadata": {},
   "outputs": [
    {
     "name": "stdout",
     "output_type": "stream",
     "text": [
      "Feb 17 22:17:46 ..... started STAR run\n",
      "Feb 17 22:17:46 ... starting to generate Genome files\n",
      "Feb 17 22:17:46 ... starting to sort Suffix Array. This may take a long time...\n",
      "Feb 17 22:17:47 ... sorting Suffix Array chunks and saving them to disk...\n",
      "Feb 17 22:17:49 ... loading chunks from disk, packing SA...\n",
      "Feb 17 22:17:49 ... finished generating suffix array\n",
      "Feb 17 22:17:49 ... generating Suffix Array index\n",
      "Feb 17 22:17:51 ... completed Suffix Array index\n",
      "Feb 17 22:17:51 ..... processing annotations GTF\n",
      "Feb 17 22:17:51 ..... inserting junctions into the genome indices\n",
      "Feb 17 22:17:52 ... writing Genome to disk ...\n",
      "Feb 17 22:17:52 ... writing Suffix Array to disk ...\n",
      "Feb 17 22:17:52 ... writing SAindex to disk\n",
      "Feb 17 22:17:52 ..... finished successfully\n"
     ]
    },
    {
     "name": "stderr",
     "output_type": "stream",
     "text": [
      "[+] Loading STAR  2.6.1c \n"
     ]
    }
   ],
   "source": [
    "%%bash\n",
    "module load STAR\n",
    "mkdir -p indices/star100-EF4\n",
    "GENOME=/fdb/igenomes/Saccharomyces_cerevisiae/Ensembl/EF4\n",
    "STAR \\\n",
    "    --runThreadN 12 \\\n",
    "    --runMode genomeGenerate \\\n",
    "    --genomeDir indices/star100-EF4 \\\n",
    "    --genomeFastaFiles $GENOME/Sequence/WholeGenomeFasta/genome.fa \\\n",
    "    --sjdbGTFfile $GENOME/Annotation/Genes/genes.gtf \\\n",
    "    --sjdbOverhang 99 \\\n",
    "    --genomeSAindexNbases 11"
   ]
  },
  {
   "cell_type": "markdown",
   "metadata": {},
   "source": [
    "# Demo with Piared RNAseq\n",
    "1. Paied end model\n",
    "2. Single-end model (skip gtf process)"
   ]
  },
  {
   "cell_type": "code",
   "execution_count": 3,
   "metadata": {},
   "outputs": [
    {
     "name": "stdout",
     "output_type": "stream",
     "text": [
      "Feb 18 18:10:42 ..... started STAR run\n",
      "Feb 18 18:10:42 ..... loading genome\n",
      "Feb 18 18:11:06 ..... processing annotations GTF\n",
      "Feb 18 18:11:14 ..... inserting junctions into the genome indices\n",
      "Feb 18 18:13:30 ..... started mapping\n",
      "Feb 18 18:14:02 ..... finished successfully\n"
     ]
    },
    {
     "name": "stderr",
     "output_type": "stream",
     "text": [
      "[+] Loading STAR  2.6.1c \n"
     ]
    }
   ],
   "source": [
    "%%bash\n",
    "rm -rf indices/starDEMO\n",
    "mkdir indices/starDEMO\n",
    "REF=\"/fdb/bwa/indexes/hg38.fa\"\n",
    "READ1=\"RNAsq1.fastq.gz\"\n",
    "READ2=\"RNAsq2.fastq.gz\"\n",
    "module load STAR\n",
    "STAR \\\n",
    "    --runThreadN 10 \\\n",
    "    --genomeDir '/fdb/STAR_indices/2.6.1c/GENCODE/Gencode_human/release_27/genes-100/' \\\n",
    "    --readFilesIn $READ1 $READ2 \\\n",
    "    --readFilesCommand zcat \\\n",
    "    --sjdbGTFfile '/fdb/igenomes/Homo_sapiens/NCBI/GRCh38/Annotation/Genes/genes.gtf' \\\n",
    "    --outFileNamePrefix indices/starDEMO/"
   ]
  },
  {
   "cell_type": "code",
   "execution_count": 1,
   "metadata": {},
   "outputs": [
    {
     "name": "stdout",
     "output_type": "stream",
     "text": [
      "                                 Started job on |\tFeb 18 18:10:42\n",
      "                             Started mapping on |\tFeb 18 18:13:30\n",
      "                                    Finished on |\tFeb 18 18:14:02\n",
      "       Mapping speed, Million of reads per hour |\t337.50\n",
      "\n",
      "                          Number of input reads |\t3000000\n",
      "                      Average input read length |\t96\n",
      "                                    UNIQUE READS:\n",
      "                   Uniquely mapped reads number |\t1934961\n",
      "                        Uniquely mapped reads % |\t64.50%\n",
      "                          Average mapped length |\t95.64\n",
      "                       Number of splices: Total |\t278369\n",
      "            Number of splices: Annotated (sjdb) |\t275975\n",
      "                       Number of splices: GT/AG |\t275382\n",
      "                       Number of splices: GC/AG |\t1961\n",
      "                       Number of splices: AT/AC |\t269\n",
      "               Number of splices: Non-canonical |\t757\n",
      "                      Mismatch rate per base, % |\t0.15%\n",
      "                         Deletion rate per base |\t0.01%\n",
      "                        Deletion average length |\t1.47\n",
      "                        Insertion rate per base |\t0.01%\n",
      "                       Insertion average length |\t1.28\n",
      "                             MULTI-MAPPING READS:\n",
      "        Number of reads mapped to multiple loci |\t889561\n",
      "             % of reads mapped to multiple loci |\t29.65%\n",
      "        Number of reads mapped to too many loci |\t7286\n",
      "             % of reads mapped to too many loci |\t0.24%\n",
      "                                  UNMAPPED READS:\n",
      "       % of reads unmapped: too many mismatches |\t0.00%\n",
      "                 % of reads unmapped: too short |\t5.47%\n",
      "                     % of reads unmapped: other |\t0.13%\n",
      "                                  CHIMERIC READS:\n",
      "                       Number of chimeric reads |\t0\n",
      "                            % of chimeric reads |\t0.00%\n"
     ]
    }
   ],
   "source": [
    "!cat indices/starDEMO/Log.final.out"
   ]
  },
  {
   "cell_type": "code",
   "execution_count": 14,
   "metadata": {},
   "outputs": [
    {
     "name": "stdout",
     "output_type": "stream",
     "text": [
      "WARNING: while processing pGe.sjdbGTFfile=/fdb/igenomes/Homo_sapiens/NCBI/GRCh38/Annotation/Genes/genes.gtf: chromosome 'chr10_KI270825v1_alt' not found in Genome fasta files for line:\n",
      "chr10_KI270825v1_alt\tGnomon\texon\t33541\t33650\t.\t-\t.\tgene_id \"DLG5-2\"; gene_name \"DLG5\"; p_id \"P22855\"; transcript_id \"XM_006725121.1\"; tss_id \"TSS45465\";\n",
      "WARNING: while processing pGe.sjdbGTFfile=/fdb/igenomes/Homo_sapiens/NCBI/GRCh38/Annotation/Genes/genes.gtf: chromosome 'chr10_KI270825v1_alt' not found in Genome fasta files for line:\n",
      "chr10_KI270825v1_alt\tBestRefSeq\texon\t34753\t34880\t.\t-\t.\tgene_id \"DLG5-2\"; gene_name \"DLG5\"; p_id \"P23880\"; transcript_id \"NM_004747.3-2\"; tss_id \"TSS3083\";\n",
      "WARNING: while processing pGe.sjdbGTFfile=/fdb/igenomes/Homo_sapiens/NCBI/GRCh38/Annotation/Genes/genes.gtf: chromosome 'chr10_KI270825v1_alt' not found in Genome fasta files for line:\n",
      "chr10_KI270825v1_alt\tGnomon\texon\t34753\t34880\t.\t-\t.\tgene_id \"DLG5-2\"; gene_name \"DLG5\"; p_id \"P3952\"; transcript_id \"XM_006725122.1\"; tss_id \"TSS45410\";\n",
      "WARNING: while processing pGe.sjdbGTFfile=/fdb/igenomes/Homo_sapiens/NCBI/GRCh38/Annotation/Genes/genes.gtf: chromosome 'chr10_KI270825v1_alt' not found in Genome fasta files for line:\n",
      "chr10_KI270825v1_alt\tGnomon\texon\t34753\t34880\t.\t-\t.\tgene_id \"DLG5-2\"; gene_name \"DLG5\"; p_id \"P1906\"; transcript_id \"XM_006725120.1\"; tss_id \"TSS45465\";\n",
      "WARNING: while processing pGe.sjdbGTFfile=/fdb/igenomes/Homo_sapiens/NCBI/GRCh38/Annotation/Genes/genes.gtf: chromosome 'chr10_KI270825v1_alt' not found in Genome fasta files for line:\n",
      "chr10_KI270825v1_alt\tGnomon\texon\t34753\t34880\t.\t-\t.\tgene_id \"DLG5-2\"; gene_name \"DLG5\"; p_id \"P22855\"; transcript_id \"XM_006725121.1\"; tss_id \"TSS45465\";\n"
     ]
    }
   ],
   "source": [
    "!head -n800 indices/starDEMO/Log.out | tail"
   ]
  },
  {
   "cell_type": "code",
   "execution_count": 20,
   "metadata": {},
   "outputs": [
    {
     "name": "stdout",
     "output_type": "stream",
     "text": [
      "@HD\tVN:1.4\n",
      "@SQ\tSN:chr1\tLN:248956422\n",
      "@SQ\tSN:chr2\tLN:242193529\n",
      "@SQ\tSN:chr3\tLN:198295559\n",
      "@SQ\tSN:chr4\tLN:190214555\n",
      "@SQ\tSN:chr5\tLN:181538259\n",
      "@SQ\tSN:chr6\tLN:170805979\n",
      "@SQ\tSN:chr7\tLN:159345973\n",
      "@SQ\tSN:chr8\tLN:145138636\n",
      "@SQ\tSN:chr9\tLN:138394717\n",
      "SRR1813891.2700849\t163\tchr18\t13025029\t255\t48M\t=\t13025112\t131\tCCCAAAGTGCTGGAATTACAGGCGTGACCCACTGCACCCAGCCAGTTG\tCCCFFFFEHHHHHIJJJJJJJJJIJJJJJJIJIJIJJJJIIJJEIIIJ\tNH:i:1\tHI:i:1\tAS:i:94\tnM:i:0\n",
      "SRR1813891.2700849\t83\tchr18\t13025112\t255\t48M\t=\t13025029\t-131\tTGATATAGTTGGATTAATGTCTGCCATGTTGTTCTTGTTTTTTTCCCC\tIJJJIJJJJJJJJJJJJJJJJJJJJIJJJJJJIJJHHHHHFFFFFCBB\tNH:i:1\tHI:i:1\tAS:i:94\tnM:i:0\n",
      "SRR1813891.2700850\t99\tchr7\t26191886\t255\t48M\t=\t26191983\t145\tCTTCTTAACTCTACACACGCACTTAAATTTTTTTAAAGGAAAAACGTT\tBB?DFFFFHHHHHJJJJJJJJJJJJJJJJJJJJJJJJJJJJJJJJJJJ\tNH:i:1\tHI:i:1\tAS:i:94\tnM:i:0\n",
      "SRR1813891.2700850\t147\tchr7\t26191983\t255\t48M\t=\t26191886\t-145\tAAAAATCTTAAAAAAGGTTTCACATGTCACCTGAAACTTACAAATTTA\tJJJJJIJJJJJJJJJJJJJGHHJJJIIHHJJJJJJHHHHHFFFFFCCC\tNH:i:1\tHI:i:1\tAS:i:94\tnM:i:0\n",
      "SRR1813891.2700851\t99\tchr14\t49862641\t3\t48M\t=\t49862789\t196\tCTGCTCCGTTTCCGACCTGGGCCGGTTCACCCCTCCTTAGGCAACCTG\t==@BD>?DDFH>DCFHIGCE@EEE:??D9DFHG@ACB8<CGGCIGAHI\tNH:i:2\tHI:i:1\tAS:i:94\tnM:i:0\n",
      "SRR1813891.2700851\t147\tchr14\t49862789\t3\t48M\t=\t49862641\t-196\tGATCCTCCCACCTCAGCCTCCCGAGTAGCTGGGACTACAGGCACGCGC\t==E@;=@;8/FBBDDGD:8:GAIHIGGEIIIGFGC<D<FADDDDD@?@\tNH:i:2\tHI:i:1\tAS:i:94\tnM:i:0\n",
      "SRR1813891.2700851\t355\tchr14\t49853706\t3\t48M\t=\t49862789\t9131\tCTGCTCCGTTTCCGACCTGGGCCGGTTCACCCCTCCTTAGGCAACCTG\t==@BD>?DDFH>DCFHIGCE@EEE:??D9DFHG@ACB8<CGGCIGAHI\tNH:i:2\tHI:i:2\tAS:i:93\tnM:i:0\n",
      "SRR1813891.2700851\t403\tchr14\t49862789\t3\t48M\t=\t49853706\t-9131\tGATCCTCCCACCTCAGCCTCCCGAGTAGCTGGGACTACAGGCACGCGC\t==E@;=@;8/FBBDDGD:8:GAIHIGGEIIIGFGC<D<FADDDDD@?@\tNH:i:2\tHI:i:2\tAS:i:93\tnM:i:0\n",
      "SRR1813891.2700852\t99\tchr2\t199390022\t255\t48M\t=\t199390166\t192\tCTGACTTTTATTAGATTATTTAATATAAGCACTAAGTAACTAGACTAA\tBBBFFFFFHHHHHJIJJJJJJJJJJJJJJJJJJJJJGIJJJJJJJJJJ\tNH:i:1\tHI:i:1\tAS:i:94\tnM:i:0\n",
      "SRR1813891.2700852\t147\tchr2\t199390166\t255\t48M\t=\t199390022\t-192\tCTTTATTTAATTTTCAGAATTCCAGTTCTTCTGTAAAACAGCCAAAAT\tJJJJJIJIJJJJJJJJJJJJJJJJJJJJJIJJJJJHHHHHFFFFFCCC\tNH:i:1\tHI:i:1\tAS:i:94\tnM:i:0\n"
     ]
    }
   ],
   "source": [
    "!head indices/starDEMO/Aligned.out.sam\n",
    "!tail indices/starDEMO/Aligned.out.sam"
   ]
  },
  {
   "cell_type": "code",
   "execution_count": 2,
   "metadata": {},
   "outputs": [
    {
     "name": "stdout",
     "output_type": "stream",
     "text": [
      "Feb 18 18:18:29 ..... started STAR run\n",
      "Feb 18 18:18:29 ..... loading genome\n",
      "Feb 18 18:18:53 ..... started mapping\n",
      "Feb 18 18:19:19 ..... finished successfully\n"
     ]
    },
    {
     "name": "stderr",
     "output_type": "stream",
     "text": [
      "[+] Loading STAR  2.6.1c \n"
     ]
    }
   ],
   "source": [
    "%%bash\n",
    "REF=\"/fdb/bwa/indexes/hg38.fa\"\n",
    "READ1=\"RNAsq1.fastq.gz\"\n",
    "module load STAR\n",
    "mkdir -p indices/starDEMO_SE\n",
    "STAR \\\n",
    "    --runThreadN 10 \\\n",
    "    --genomeDir '/fdb/STAR_indices/2.6.1c/GENCODE/Gencode_human/release_27/genes-100/' \\\n",
    "    --readFilesIn $READ1 \\\n",
    "    --readFilesCommand zcat \\\n",
    "    --outFileNamePrefix indices/starDEMO_SE/"
   ]
  },
  {
   "cell_type": "code",
   "execution_count": 3,
   "metadata": {},
   "outputs": [
    {
     "name": "stdout",
     "output_type": "stream",
     "text": [
      "                                 Started job on |\tFeb 18 18:18:29\n",
      "                             Started mapping on |\tFeb 18 18:18:53\n",
      "                                    Finished on |\tFeb 18 18:19:19\n",
      "       Mapping speed, Million of reads per hour |\t415.38\n",
      "\n",
      "                          Number of input reads |\t3000000\n",
      "                      Average input read length |\t48\n",
      "                                    UNIQUE READS:\n",
      "                   Uniquely mapped reads number |\t1903495\n",
      "                        Uniquely mapped reads % |\t63.45%\n",
      "                          Average mapped length |\t47.85\n",
      "                       Number of splices: Total |\t121953\n",
      "            Number of splices: Annotated (sjdb) |\t120508\n",
      "                       Number of splices: GT/AG |\t120555\n",
      "                       Number of splices: GC/AG |\t916\n",
      "                       Number of splices: AT/AC |\t112\n",
      "               Number of splices: Non-canonical |\t370\n",
      "                      Mismatch rate per base, % |\t0.15%\n",
      "                         Deletion rate per base |\t0.01%\n",
      "                        Deletion average length |\t1.45\n",
      "                        Insertion rate per base |\t0.01%\n",
      "                       Insertion average length |\t1.28\n",
      "                             MULTI-MAPPING READS:\n",
      "        Number of reads mapped to multiple loci |\t1028024\n",
      "             % of reads mapped to multiple loci |\t34.27%\n",
      "        Number of reads mapped to too many loci |\t16646\n",
      "             % of reads mapped to too many loci |\t0.55%\n",
      "                                  UNMAPPED READS:\n",
      "       % of reads unmapped: too many mismatches |\t0.00%\n",
      "                 % of reads unmapped: too short |\t1.32%\n",
      "                     % of reads unmapped: other |\t0.41%\n",
      "                                  CHIMERIC READS:\n",
      "                       Number of chimeric reads |\t0\n",
      "                            % of chimeric reads |\t0.00%\n"
     ]
    }
   ],
   "source": [
    "!cat indices/starDEMO_SE/Log.final.out"
   ]
  },
  {
   "cell_type": "code",
   "execution_count": 30,
   "metadata": {},
   "outputs": [
    {
     "name": "stdout",
     "output_type": "stream",
     "text": [
      "Completed: thread #6\n",
      "Completed: thread #5\n",
      "Joined thread # 5\n",
      "Joined thread # 6\n",
      "Joined thread # 7\n",
      "Completed: thread #9\n",
      "Completed: thread #8\n",
      "Joined thread # 8\n",
      "Joined thread # 9\n",
      "ALL DONE!\n"
     ]
    }
   ],
   "source": [
    "!head -n700 indices/starDEMO_SE/Log.out | tail"
   ]
  },
  {
   "cell_type": "code",
   "execution_count": 22,
   "metadata": {},
   "outputs": [
    {
     "name": "stdout",
     "output_type": "stream",
     "text": [
      "@HD\tVN:1.4\n",
      "@SQ\tSN:chr1\tLN:248956422\n",
      "@SQ\tSN:chr2\tLN:242193529\n",
      "@SQ\tSN:chr3\tLN:198295559\n",
      "@SQ\tSN:chr4\tLN:190214555\n",
      "@SQ\tSN:chr5\tLN:181538259\n",
      "@SQ\tSN:chr6\tLN:170805979\n",
      "@SQ\tSN:chr7\tLN:159345973\n",
      "@SQ\tSN:chr8\tLN:145138636\n",
      "@SQ\tSN:chr9\tLN:138394717\n",
      "SRR1813891.2849989\t16\tchr4\t85610024\t255\t48M\t*\t0\t0\tGGCATAAGACAATTTAATGAACTTGTTTATTTGTGTCAGGTCCCTGAG\tJJJJJJJJJJJJJJJJJJJJIJJJJJJJJJJJJJJHHHHHFFFDDB=B\tNH:i:1\tHI:i:1\tAS:i:47\tnM:i:0\n",
      "SRR1813891.2849990\t16\tchr21\t8216143\t0\t48M\t*\t0\t0\tTACGCCGCGACGAGTAGGAGGGCCGCTGCGGTGAGCCTTGAAGCCTAG\tDDDCFHIGIHDJHHFJJJJIJJIJIIGGFHGGJIIHFFHHFFFFDB=B\tNH:i:8\tHI:i:1\tAS:i:47\tnM:i:0\n",
      "SRR1813891.2849990\t272\tchr21\t8399177\t0\t48M\t*\t0\t0\tTACGCCGCGACGAGTAGGAGGGCCGCTGCGGTGAGCCTTGAAGCCTAG\tDDDCFHIGIHDJHHFJJJJIJJIJIIGGFHGGJIIHFFHHFFFFDB=B\tNH:i:8\tHI:i:2\tAS:i:47\tnM:i:0\n",
      "SRR1813891.2849990\t272\tchr21\t8260372\t0\t48M\t*\t0\t0\tTACGCCGCGACGAGTAGGAGGGCCGCTGCGGTGAGCCTTGAAGCCTAG\tDDDCFHIGIHDJHHFJJJJIJJIJIIGGFHGGJIIHFFHHFFFFDB=B\tNH:i:8\tHI:i:3\tAS:i:47\tnM:i:0\n",
      "SRR1813891.2849990\t272\tchr21\t8443412\t0\t48M\t*\t0\t0\tTACGCCGCGACGAGTAGGAGGGCCGCTGCGGTGAGCCTTGAAGCCTAG\tDDDCFHIGIHDJHHFJJJJIJJIJIIGGFHGGJIIHFFHHFFFFDB=B\tNH:i:8\tHI:i:4\tAS:i:47\tnM:i:0\n",
      "SRR1813891.2849990\t272\tGL000220.1\t115614\t0\t48M\t*\t0\t0\tTACGCCGCGACGAGTAGGAGGGCCGCTGCGGTGAGCCTTGAAGCCTAG\tDDDCFHIGIHDJHHFJJJJIJJIJIIGGFHGGJIIHFFHHFFFFDB=B\tNH:i:8\tHI:i:5\tAS:i:47\tnM:i:0\n",
      "SRR1813891.2849990\t272\tGL000220.1\t159586\t0\t48M\t*\t0\t0\tTACGCCGCGACGAGTAGGAGGGCCGCTGCGGTGAGCCTTGAAGCCTAG\tDDDCFHIGIHDJHHFJJJJIJJIJIIGGFHGGJIIHFFHHFFFFDB=B\tNH:i:8\tHI:i:6\tAS:i:47\tnM:i:0\n",
      "SRR1813891.2849990\t272\tKI270733.1\t132469\t0\t48M\t*\t0\t0\tTACGCCGCGACGAGTAGGAGGGCCGCTGCGGTGAGCCTTGAAGCCTAG\tDDDCFHIGIHDJHHFJJJJIJJIJIIGGFHGGJIIHFFHHFFFFDB=B\tNH:i:8\tHI:i:7\tAS:i:47\tnM:i:0\n",
      "SRR1813891.2849990\t272\tKI270733.1\t177548\t0\t48M\t*\t0\t0\tTACGCCGCGACGAGTAGGAGGGCCGCTGCGGTGAGCCTTGAAGCCTAG\tDDDCFHIGIHDJHHFJJJJIJJIJIIGGFHGGJIIHFFHHFFFFDB=B\tNH:i:8\tHI:i:8\tAS:i:47\tnM:i:0\n",
      "SRR1813891.2849991\t16\tchr10\t48393442\t255\t48M\t*\t0\t0\tTCAGTTTCATAATCTGTAAGATGGAAAAAATGTAGTACCTTTCCTAAC\tJJJJJJJJJIJIIJIJJJJJJIJJJJJJJJJJJJIHHHHHFFFFFCC@\tNH:i:1\tHI:i:1\tAS:i:47\tnM:i:0\n"
     ]
    }
   ],
   "source": [
    "!head indices/starDEMO_SE/Aligned.out.sam\n",
    "!tail indices/starDEMO_SE/Aligned.out.sam"
   ]
  }
 ],
 "metadata": {
  "kernelspec": {
   "display_name": "python/3.5",
   "language": "python",
   "name": "py3.5"
  },
  "language_info": {
   "codemirror_mode": {
    "name": "ipython",
    "version": 3
   },
   "file_extension": ".py",
   "mimetype": "text/x-python",
   "name": "python",
   "nbconvert_exporter": "python",
   "pygments_lexer": "ipython3",
   "version": "3.5.6"
  }
 },
 "nbformat": 4,
 "nbformat_minor": 2
}
